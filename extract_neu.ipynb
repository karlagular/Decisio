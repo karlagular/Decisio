{
 "cells": [
  {
   "cell_type": "markdown",
   "metadata": {},
   "source": [
    "This notebook is to test the functionalities without having to run the whole script repeatedly.\n",
    "\n",
    "It automatically extracts the contents of a Word document, according to the given format, saves the extracted information into dictionary variables, which are pickled and stored locally."
   ]
  },
  {
   "cell_type": "code",
   "execution_count": 1,
   "metadata": {},
   "outputs": [],
   "source": [
    "from docx.text.paragraph import Paragraph\n",
    "from docx.document import Document\n",
    "from docx.table import _Cell, Table\n",
    "from docx.oxml.text.paragraph import CT_P\n",
    "from docx.oxml.table import CT_Tbl\n",
    "import docx\n",
    "from openai import OpenAI\n",
    "import pickle"
   ]
  },
  {
   "cell_type": "markdown",
   "metadata": {},
   "source": [
    "iter_bock_items() is the function used to iterate over paragraphs and tables in a docx document"
   ]
  },
  {
   "cell_type": "code",
   "execution_count": 2,
   "metadata": {},
   "outputs": [],
   "source": [
    "def iter_block_items(parent):\n",
    "    if isinstance(parent, Document):\n",
    "        parent_elm = parent.element.body\n",
    "    elif isinstance(parent, _Cell):\n",
    "        parent_elm = parent._tc\n",
    "    else:\n",
    "        raise ValueError(\"something's not right\")\n",
    "\n",
    "    for child in parent_elm.iterchildren():\n",
    "        if isinstance(child, CT_P):\n",
    "            #yield Paragraph(child, parent)\n",
    "            current_p=Paragraph(child,parent)\n",
    "            yield current_p\n",
    "        elif isinstance(child, CT_Tbl):\n",
    "            table = Table(child, parent)\n",
    "            for row in table.rows:\n",
    "                for cell in row.cells:\n",
    "                    yield from iter_block_items(cell)"
   ]
  },
  {
   "cell_type": "markdown",
   "metadata": {},
   "source": [
    "Read the desired Word document"
   ]
  },
  {
   "cell_type": "code",
   "execution_count": null,
   "metadata": {},
   "outputs": [],
   "source": [
    "doc = docx.Document('Projectreports/22-1297_Tobias-Nimz.docx')"
   ]
  }
 ],
 "metadata": {
  "kernelspec": {
   "display_name": "base",
   "language": "python",
   "name": "python3"
  },
  "language_info": {
   "codemirror_mode": {
    "name": "ipython",
    "version": 3
   },
   "file_extension": ".py",
   "mimetype": "text/x-python",
   "name": "python",
   "nbconvert_exporter": "python",
   "pygments_lexer": "ipython3",
   "version": "3.8.2"
  }
 },
 "nbformat": 4,
 "nbformat_minor": 2
}
